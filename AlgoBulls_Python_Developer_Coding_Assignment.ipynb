{
 "cells": [
  {
   "cell_type": "markdown",
   "id": "858db3c7",
   "metadata": {},
   "source": [
    "#### Name: Kalp Ranpura\n",
    "#### Mail: kalpmrr@duck.com\n",
    "#### Topic: AlgoBulls_Pythob_Developer_Coding_Assignment\n",
    "#### Date: 15-06-2023"
   ]
  },
  {
   "cell_type": "markdown",
   "id": "7a7afedd",
   "metadata": {},
   "source": [
    "# Part-1"
   ]
  },
  {
   "cell_type": "code",
   "execution_count": null,
   "id": "372bbd18",
   "metadata": {},
   "outputs": [],
   "source": [
    "import pandas as pd\n",
    "from alpha_vantage.timeseries import TimeSeries\n",
    "import plotly.graph_objects as go"
   ]
  },
  {
   "cell_type": "code",
   "execution_count": null,
   "id": "e05dd76f",
   "metadata": {},
   "outputs": [],
   "source": [
    "class ScriptData:\n",
    "    used_symbols = set()  # set to keep track of used symbols\n",
    "\n",
    "    def __init__(self):\n",
    "        self.api_key = 'M4N0W0ER2FCVUBW2'\n",
    "        self.ts = TimeSeries(key=self.api_key, output_format='pandas')\n",
    "        self.data = None\n",
    "\n",
    "    def fetch_intraday_data(self, symbol):\n",
    "        self.data, _ = self.ts.get_intraday(symbol=symbol)  \n",
    "\n",
    "    def convert_intraday_data(self, symbol):\n",
    "        df = self.data\n",
    "\n",
    "        df.index = pd.to_datetime(df.index)\n",
    "        df.reset_index(inplace=True)\n",
    "        df.columns = ['timestamp', 'open', 'high', 'low', 'close', 'volume']\n",
    "        df['volume'] = df['volume'].astype(int)\n",
    "        df[['open', 'high', 'low', 'close']] = df[['open', 'high', 'low', 'close']].astype(float)\n",
    "        self.df = df\n",
    "\n",
    "    def __getitem__(self, symbol):\n",
    "        self.used_symbols.add(symbol)\n",
    "        return self.df\n",
    "\n",
    "    def __setitem__(self, symbol):\n",
    "        raise NotImplementedError(\"Setting data is not supported.\")\n",
    "\n",
    "    def __contains__(self, symbol):\n",
    "        return symbol in self.used_symbols\n"
   ]
  },
  {
   "cell_type": "code",
   "execution_count": null,
   "id": "a581585c",
   "metadata": {},
   "outputs": [],
   "source": [
    "script_data = ScriptData()\n",
    "script_data.fetch_intraday_data('amzn')\n",
    "script_data.convert_intraday_data('amzn')\n",
    "script_data['amzn']\n"
   ]
  },
  {
   "cell_type": "code",
   "execution_count": null,
   "id": "8b82a2b0",
   "metadata": {},
   "outputs": [],
   "source": [
    "'amzn' in script_data\n"
   ]
  },
  {
   "cell_type": "markdown",
   "id": "c6d994aa",
   "metadata": {},
   "source": [
    "# Part-2"
   ]
  },
  {
   "cell_type": "code",
   "execution_count": null,
   "id": "cca10ae7",
   "metadata": {},
   "outputs": [],
   "source": [
    "def indicator1(df, timeperiod):\n",
    "    indicator_df = pd.DataFrame()\n",
    "    indicator_df['timestamp'] = df['timestamp']\n",
    "    indicator_df['indicator'] = df['close'].rolling(timeperiod).mean()\n",
    "    return indicator_df"
   ]
  },
  {
   "cell_type": "code",
   "execution_count": null,
   "id": "2f3b4fdd",
   "metadata": {},
   "outputs": [],
   "source": [
    "indicator1(script_data['amzn'],timeperiod=3)"
   ]
  },
  {
   "cell_type": "markdown",
   "id": "2b4a1ff7",
   "metadata": {},
   "source": [
    "# Part-3"
   ]
  },
  {
   "cell_type": "code",
   "execution_count": null,
   "id": "121dc4a1",
   "metadata": {},
   "outputs": [],
   "source": [
    "class Strategy:\n",
    "    def __init__(self, symbol):\n",
    "        self.symbol = symbol\n",
    "    \n",
    "    def get_script_data(self):\n",
    "        # FETCHING DATA WITH API AND CONVERTING IT TO DATAFRAME\n",
    "        script_data = ScriptData()\n",
    "        script_data.fetch_intraday_data(self.symbol)\n",
    "        script_data.convert_intraday_data(self.symbol)\n",
    "        self.close_df = script_data[self.symbol]\n",
    "        \n",
    "        # CREATING INDICATOR DF FOR MOVING AVERAGE\n",
    "        indicator_data = indicator1(script_data[self.symbol], timeperiod=5)\n",
    "        self.indic = indicator_data\n",
    "        \n",
    "    # METHOD TO GET SIGNAL BASED ON THE CUTS   \n",
    "    def get_signals(self):  \n",
    "        signal_df = pd.merge(self.close_df, self.indic, on='timestamp')\n",
    "        signal_df['signal'] = 'NO_SIGNAL'\n",
    "        \n",
    "        # LOGIC FOR CUT_DOWNWARDS\n",
    "        buy_coincide_indices = signal_df[(signal_df['close'] == signal_df['indicator']) & (signal_df['indicator'].shift(-1) < signal_df['close'].shift(-1))].index\n",
    "        signal_df.loc[buy_coincide_indices, 'signal'] = 'BUY' \n",
    "        \n",
    "        # LOGIC FOR CUT_UPWARDS\n",
    "        sell_coincide_indices = signal_df[(signal_df['close'] == signal_df['indicator']) & (signal_df['indicator'].shift(-1) > signal_df['close'].shift(-1))].index\n",
    "        signal_df.loc[sell_coincide_indices, 'signal'] = 'SELL' \n",
    "        \n",
    "        # FILTERING TO SHOW THE REQUIRED COLUMN\n",
    "        signals = signal_df.query(\"signal in ['BUY', 'SELL']\")[['timestamp', 'signal']] \n",
    "        \n",
    "        return signals\n"
   ]
  },
  {
   "cell_type": "code",
   "execution_count": null,
   "id": "fb10fd4e",
   "metadata": {},
   "outputs": [],
   "source": [
    "df=Strategy('amzn')\n",
    "df.get_script_data()\n",
    "df.get_signals()"
   ]
  },
  {
   "cell_type": "markdown",
   "id": "0681adeb",
   "metadata": {},
   "source": [
    "# Part-4"
   ]
  },
  {
   "cell_type": "code",
   "execution_count": null,
   "id": "fcdbdb88",
   "metadata": {},
   "outputs": [],
   "source": [
    "class Plots:\n",
    "    \n",
    "    def __init__(self, symbol):\n",
    "        self.symbol = symbol\n",
    "    \n",
    "    def get_dfs(self):\n",
    "        script_data = ScriptData()\n",
    "        script_data.fetch_intraday_data(self.symbol)\n",
    "        script_data.convert_intraday_data(self.symbol)\n",
    "        self.close_df = script_data[self.symbol]\n",
    "        \n",
    "        self.indicator_df = indicator1(self.close_df, timeperiod=5)\n",
    "        strategy = Strategy(self.symbol)\n",
    "        strategy.get_script_data()\n",
    "        self.signal = strategy.get_signals()\n",
    "        \n",
    "    def get_plots(self):\n",
    "        fig1 = go.Figure()\n",
    "\n",
    "        # Add candlestick trace\n",
    "\n",
    "        # Add moving average trace\n",
    "        fig1.add_trace(go.Scatter(x=self.indicator_df['timestamp'],\n",
    "                                 y=self.indicator_df['indicator'],\n",
    "                                 mode='lines',\n",
    "                                 name='Moving Average'))\n",
    "\n",
    "        fig1.add_trace(go.Scatter(x=self.close_df['timestamp'],\n",
    "                                 y=self.close_df['close'],\n",
    "                                 mode='lines',\n",
    "                                 name='Closing'))\n",
    "\n",
    "        # Customize the layout\n",
    "        fig1.update_layout(title='Closing Price with Moving Average',\n",
    "                          xaxis_title='Date',\n",
    "                          yaxis_title='Price')\n",
    "\n",
    "        # Annotating the layout with signals\n",
    "        annotations = []\n",
    "\n",
    "        for i, row in self.signal.iterrows():\n",
    "            timestamp = row['timestamp']\n",
    "            close_value = self.close_df.loc[self.close_df['timestamp'] == timestamp, 'close'].values[0]\n",
    "\n",
    "            annotation = dict(\n",
    "                x=timestamp,\n",
    "                y=close_value,\n",
    "                xref='x',\n",
    "                yref='y',\n",
    "                text=row['signal'],\n",
    "                showarrow=True,\n",
    "                arrowhead=2,\n",
    "                arrowsize=1.5,\n",
    "                arrowwidth=1,\n",
    "                arrowcolor='black',\n",
    "            )\n",
    "\n",
    "            annotations.append(annotation)\n",
    "\n",
    "        fig1.update_layout(annotations=annotations)\n",
    "        # Display the chart\n",
    "        fig1.show()\n",
    "\n",
    "        # Another chart\n",
    "        fig2 = go.Figure()\n",
    "\n",
    "        # Add candlestick trace\n",
    "        fig2.add_trace(go.Candlestick(x=self.close_df['timestamp'],\n",
    "                                     open=self.close_df['open'],\n",
    "                                     high=self.close_df['high'],\n",
    "                                     low=self.close_df['low'],\n",
    "                                     close=self.close_df['close'],\n",
    "                                     name='Candlestick'))\n",
    "        fig2.add_trace(go.Scatter(x=self.indicator_df['timestamp'],\n",
    "                                 y=self.indicator_df['indicator'],\n",
    "                                 mode='lines',\n",
    "                                 name='Moving Average'))\n",
    "        # Customize the layout\n",
    "        fig2.update_layout(title='Candlestick Chart with Moving Average',\n",
    "                          xaxis_title='Date',\n",
    "                          yaxis_title='Price')\n",
    "        # Display the chart\n",
    "        fig2.show()\n"
   ]
  },
  {
   "cell_type": "code",
   "execution_count": null,
   "id": "68d1f236",
   "metadata": {},
   "outputs": [],
   "source": [
    "plot=Plots('AMZN')\n",
    "plot.get_dfs()\n",
    "plot.get_plots()"
   ]
  }
 ],
 "metadata": {
  "kernelspec": {
   "display_name": "Python 3 (ipykernel)",
   "language": "python",
   "name": "python3"
  },
  "language_info": {
   "codemirror_mode": {
    "name": "ipython",
    "version": 3
   },
   "file_extension": ".py",
   "mimetype": "text/x-python",
   "name": "python",
   "nbconvert_exporter": "python",
   "pygments_lexer": "ipython3",
   "version": "3.9.12"
  }
 },
 "nbformat": 4,
 "nbformat_minor": 5
}
